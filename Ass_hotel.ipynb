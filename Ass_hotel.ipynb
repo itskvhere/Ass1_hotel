{
 "cells": [
  {
   "cell_type": "markdown",
   "metadata": {},
   "source": [
    "1,2.Import pyspark"
   ]
  },
  {
   "cell_type": "code",
   "execution_count": 51,
   "metadata": {},
   "outputs": [
    {
     "name": "stderr",
     "output_type": "stream",
     "text": [
      "24/09/26 17:19:02 WARN SparkSession: Using an existing Spark session; only runtime SQL configurations will take effect.\n"
     ]
    }
   ],
   "source": [
    "from pyspark.sql import SparkSession\n",
    "spark = SparkSession.builder.appName(\"PySparkass\").getOrCreate()"
   ]
  },
  {
   "cell_type": "markdown",
   "metadata": {},
   "source": [
    "3. Load the CSV file as a Spark RDD\n"
   ]
  },
  {
   "cell_type": "code",
   "execution_count": 42,
   "metadata": {},
   "outputs": [
    {
     "name": "stdout",
     "output_type": "stream",
     "text": [
      "<class 'pyspark.rdd.RDD'>\n",
      "+---------------+--------------+---------+----------------+----------+----------+--------+--------------------+--------------------+\n",
      "|Holding company|  Headquarters|Locations|Year established|Properties|     Rooms|Category|      Managed brands|   Franchised brands|\n",
      "+---------------+--------------+---------+----------------+----------+----------+--------+--------------------+--------------------+\n",
      "|          Accor|Paris (France)|Worldwide|            1967|  5,300[4]|778,000[4]|  Luxury|             Raffles|Banyan Tree Hótel...|\n",
      "|           NULL|          NULL|     NULL|            NULL|      NULL|      NULL|    NULL|      Orient Express|                NULL|\n",
      "|           NULL|          NULL|     NULL|            NULL|      NULL|      NULL|    NULL|              Delano|                NULL|\n",
      "|           NULL|          NULL|     NULL|            NULL|      NULL|      NULL|    NULL|                 SO/|                NULL|\n",
      "|           NULL|          NULL|     NULL|            NULL|      NULL|      NULL|    NULL|      Sofitel Legend|                NULL|\n",
      "|           NULL|          NULL|     NULL|            NULL|      NULL|      NULL|    NULL|            Fairmont|                NULL|\n",
      "|           NULL|          NULL|     NULL|            NULL|      NULL|      NULL|    NULL|                 SLS|                NULL|\n",
      "|           NULL|          NULL|     NULL|            NULL|      NULL|      NULL|    NULL|             Sofitel|                NULL|\n",
      "|           NULL|          NULL|     NULL|            NULL|      NULL|      NULL|    NULL|The House of Orig...|                NULL|\n",
      "|           NULL|          NULL|     NULL|            NULL|      NULL|      NULL|    NULL|               Rixos|                NULL|\n",
      "|           NULL|          NULL|     NULL|            NULL|      NULL|      NULL|    NULL|         onefinestay|                NULL|\n",
      "|           NULL|          NULL|     NULL|            NULL|      NULL|      NULL| Premium|              Mantis|                NULL|\n",
      "|           NULL|          NULL|     NULL|            NULL|      NULL|      NULL|    NULL|            MGallery|                NULL|\n",
      "|           NULL|          NULL|     NULL|            NULL|      NULL|      NULL|    NULL|          Art Series|                NULL|\n",
      "|           NULL|          NULL|     NULL|            NULL|      NULL|      NULL|    NULL|            Mondrian|                NULL|\n",
      "|           NULL|          NULL|     NULL|            NULL|      NULL|      NULL|    NULL|             Pullman|                NULL|\n",
      "|           NULL|          NULL|     NULL|            NULL|      NULL|      NULL|    NULL|           Swissôtel|                NULL|\n",
      "|           NULL|          NULL|     NULL|            NULL|      NULL|      NULL|    NULL|             Angsana|                NULL|\n",
      "|           NULL|          NULL|     NULL|            NULL|      NULL|      NULL|    NULL|            25 Hours|                NULL|\n",
      "|           NULL|          NULL|     NULL|            NULL|      NULL|      NULL|    NULL|                Hyde|                NULL|\n",
      "+---------------+--------------+---------+----------------+----------+----------+--------+--------------------+--------------------+\n",
      "only showing top 20 rows\n",
      "\n"
     ]
    }
   ],
   "source": [
    "df = spark.read.csv(\"/home/ai/Documents/Task_hotel/hotels.csv\",header=True)\n",
    "rdd1=df.rdd\n",
    "print(type(rdd1))\n",
    "df=rdd1.toDF()\n",
    "df.show()"
   ]
  },
  {
   "cell_type": "markdown",
   "metadata": {},
   "source": [
    "4.1.1 creating first dataframe"
   ]
  },
  {
   "cell_type": "code",
   "execution_count": 43,
   "metadata": {},
   "outputs": [
    {
     "name": "stdout",
     "output_type": "stream",
     "text": [
      "+---------------+--------------+---------+----------------+----------+----------+\n",
      "|Holding company|  Headquarters|Locations|Year established|Properties|     Rooms|\n",
      "+---------------+--------------+---------+----------------+----------+----------+\n",
      "|          Accor|Paris (France)|Worldwide|            1967|  5,300[4]|778,000[4]|\n",
      "|           NULL|          NULL|     NULL|            NULL|      NULL|      NULL|\n",
      "|           NULL|          NULL|     NULL|            NULL|      NULL|      NULL|\n",
      "|           NULL|          NULL|     NULL|            NULL|      NULL|      NULL|\n",
      "|           NULL|          NULL|     NULL|            NULL|      NULL|      NULL|\n",
      "|           NULL|          NULL|     NULL|            NULL|      NULL|      NULL|\n",
      "|           NULL|          NULL|     NULL|            NULL|      NULL|      NULL|\n",
      "|           NULL|          NULL|     NULL|            NULL|      NULL|      NULL|\n",
      "|           NULL|          NULL|     NULL|            NULL|      NULL|      NULL|\n",
      "|           NULL|          NULL|     NULL|            NULL|      NULL|      NULL|\n",
      "|           NULL|          NULL|     NULL|            NULL|      NULL|      NULL|\n",
      "|           NULL|          NULL|     NULL|            NULL|      NULL|      NULL|\n",
      "|           NULL|          NULL|     NULL|            NULL|      NULL|      NULL|\n",
      "|           NULL|          NULL|     NULL|            NULL|      NULL|      NULL|\n",
      "|           NULL|          NULL|     NULL|            NULL|      NULL|      NULL|\n",
      "|           NULL|          NULL|     NULL|            NULL|      NULL|      NULL|\n",
      "|           NULL|          NULL|     NULL|            NULL|      NULL|      NULL|\n",
      "|           NULL|          NULL|     NULL|            NULL|      NULL|      NULL|\n",
      "|           NULL|          NULL|     NULL|            NULL|      NULL|      NULL|\n",
      "|           NULL|          NULL|     NULL|            NULL|      NULL|      NULL|\n",
      "+---------------+--------------+---------+----------------+----------+----------+\n",
      "only showing top 20 rows\n",
      "\n"
     ]
    }
   ],
   "source": [
    "df1 = df[[\"Holding company\", \"Headquarters\", \"Locations\", \"Year established\", \"Properties\", \"Rooms\"]]\n",
    "df1.show()"
   ]
  },
  {
   "cell_type": "markdown",
   "metadata": {},
   "source": [
    "4.1.2 dealing null values with forward fill"
   ]
  },
  {
   "cell_type": "code",
   "execution_count": 44,
   "metadata": {},
   "outputs": [
    {
     "name": "stderr",
     "output_type": "stream",
     "text": [
      "24/09/26 17:18:54 WARN WindowExec: No Partition Defined for Window operation! Moving all data to a single partition, this can cause serious performance degradation.\n",
      "24/09/26 17:18:54 WARN WindowExec: No Partition Defined for Window operation! Moving all data to a single partition, this can cause serious performance degradation.\n",
      "24/09/26 17:18:54 WARN WindowExec: No Partition Defined for Window operation! Moving all data to a single partition, this can cause serious performance degradation.\n",
      "24/09/26 17:18:54 WARN WindowExec: No Partition Defined for Window operation! Moving all data to a single partition, this can cause serious performance degradation.\n",
      "24/09/26 17:18:54 WARN WindowExec: No Partition Defined for Window operation! Moving all data to a single partition, this can cause serious performance degradation.\n"
     ]
    },
    {
     "name": "stdout",
     "output_type": "stream",
     "text": [
      "+---------------+--------------+---------+----------------+----------+----------+\n",
      "|Holding company|  Headquarters|Locations|Year established|Properties|     Rooms|\n",
      "+---------------+--------------+---------+----------------+----------+----------+\n",
      "|          Accor|Paris (France)|Worldwide|            1967|  5,300[4]|778,000[4]|\n",
      "|          Accor|Paris (France)|Worldwide|            1967|  5,300[4]|778,000[4]|\n",
      "|          Accor|Paris (France)|Worldwide|            1967|  5,300[4]|778,000[4]|\n",
      "|          Accor|Paris (France)|Worldwide|            1967|  5,300[4]|778,000[4]|\n",
      "|          Accor|Paris (France)|Worldwide|            1967|  5,300[4]|778,000[4]|\n",
      "|          Accor|Paris (France)|Worldwide|            1967|  5,300[4]|778,000[4]|\n",
      "|          Accor|Paris (France)|Worldwide|            1967|  5,300[4]|778,000[4]|\n",
      "|          Accor|Paris (France)|Worldwide|            1967|  5,300[4]|778,000[4]|\n",
      "|          Accor|Paris (France)|Worldwide|            1967|  5,300[4]|778,000[4]|\n",
      "|          Accor|Paris (France)|Worldwide|            1967|  5,300[4]|778,000[4]|\n",
      "|          Accor|Paris (France)|Worldwide|            1967|  5,300[4]|778,000[4]|\n",
      "|          Accor|Paris (France)|Worldwide|            1967|  5,300[4]|778,000[4]|\n",
      "|          Accor|Paris (France)|Worldwide|            1967|  5,300[4]|778,000[4]|\n",
      "|          Accor|Paris (France)|Worldwide|            1967|  5,300[4]|778,000[4]|\n",
      "|          Accor|Paris (France)|Worldwide|            1967|  5,300[4]|778,000[4]|\n",
      "|          Accor|Paris (France)|Worldwide|            1967|  5,300[4]|778,000[4]|\n",
      "|          Accor|Paris (France)|Worldwide|            1967|  5,300[4]|778,000[4]|\n",
      "|          Accor|Paris (France)|Worldwide|            1967|  5,300[4]|778,000[4]|\n",
      "|          Accor|Paris (France)|Worldwide|            1967|  5,300[4]|778,000[4]|\n",
      "|          Accor|Paris (France)|Worldwide|            1967|  5,300[4]|778,000[4]|\n",
      "+---------------+--------------+---------+----------------+----------+----------+\n",
      "only showing top 20 rows\n",
      "\n"
     ]
    }
   ],
   "source": [
    "import pyspark.sql.functions as F\n",
    "from pyspark.sql import Window\n",
    "w_forward = Window.partitionBy().rowsBetween(Window.unboundedPreceding,Window.currentRow)\n",
    "df1 = df1.select([F.last(df1[column], ignorenulls=True).over(w_forward).alias(column) for column in df1.columns])\n",
    "df1.show()"
   ]
  },
  {
   "cell_type": "markdown",
   "metadata": {},
   "source": [
    "4.1.3 only 1 row per \"Holding company\""
   ]
  },
  {
   "cell_type": "code",
   "execution_count": 45,
   "metadata": {},
   "outputs": [
    {
     "name": "stdout",
     "output_type": "stream",
     "text": [
      "+--------------------+--------------------+--------------------+----------------+--------------------+--------------------+\n",
      "|     Holding company|        Headquarters|           Locations|Year established|          Properties|               Rooms|\n",
      "+--------------------+--------------------+--------------------+----------------+--------------------+--------------------+\n",
      "|               Accor|      Paris (France)|Worldwide, Worldw...|            1967|5,300[4], 5,300[4...|778,000[4], 778,0...|\n",
      "|        Aman Resorts|   Baar, Switzerland|     20 countries[5]|            1988|               34[5]|          778,000[4]|\n",
      "|           APA Group|       Tokyo (Japan)|  Japan, USA, Canada|            1988|355[6], 355[6], 3...|53,168[6], 53,168...|\n",
      "|Archipelago Inter...|Jakarta, (Indonesia)|           Worldwide|            1997|                 150|           53,168[6]|\n",
      "|Ascott Limited (The)|           Singapore|Worldwide (27 cou...|            1984|800[7], 800[7], 8...|135,000[7], 135,0...|\n",
      "|        Avari Hotels|  Karachi (Pakistan)|         3 countries|            1948|                5[8]|          135,000[7]|\n",
      "|Banyan Tree Holdings|           Singapore|Worldwide (28 cou...|        1994[10]|47[9], 47[9], 47[...|135,000[7], 135,0...|\n",
      "|            Barrière|      Paris (France)|Europe, Europe, E...|        1912[11]|18[11], 18[11], 1...|2,300[11], 2,300[...|\n",
      "|     Belmond Limited|  Hamilton (Bermuda)|           Worldwide|        1976[12]|              41[13]|           2,300[11]|\n",
      "| Best Western Hotels|       Phoenix (USA)|Worldwide, Worldw...|        1946[14]|4,700[15], 4,700[...|369,386[16], 369,...|\n",
      "|BTG Homeinn hotel...|    Shanghai (China)|China, China, Chi...|        2002[17]|4,450[16], 4,450[...|414,952[16], 414,...|\n",
      "|Centara Hotels & ...|  Bangkok (Thailand)|Asia, Middle East...|        1983[19]|77[20], 77[20], 7...|16,737[20], 16,73...|\n",
      "| China Lodging Group|Shanghai, (China)...|           China[22]|        2007[23]|           5,953[24]|         575,488[24]|\n",
      "| Huazhu Hotels Group|Shanghai, (China)...|China[22], China[...|        2007[23]|5,953[24], 5,953[...|575,488[24], 575,...|\n",
      "|Choice Hotels Int...|     Rockville (USA)|Worldwide, Worldw...|        1939[25]|7,100[26], 7,100[...|600,000[26], 600,...|\n",
      "|Cinnamon Hotels &...| Colombo (Sri Lanka)| Sri Lanka, Maldives|            2005|                  15|           2,556[27]|\n",
      "| Compass Hospitality|  Bangkok (Thailand)|Thailand, Malaysi...|            2005|46[28], 46[28], 4...|4,600+[28], 4,600...|\n",
      "|Dalata Hotel Grou...|    Dublin (Ireland)|Ireland, United K...|            2008|      41[30], 41[30]|8,952[30], 8,952[30]|\n",
      "|Dorchester Collec...|London (United Ki...|France, Italy, UK...|            1981|9[32], 9[32], 9[3...|8,952[30], 8,952[...|\n",
      "|        Drury Hotels|     St. Louis (USA)|USA, USA, USA, US...|            1973|150[33], 150[33],...|8,952[30], 8,952[...|\n",
      "+--------------------+--------------------+--------------------+----------------+--------------------+--------------------+\n",
      "only showing top 20 rows\n",
      "\n"
     ]
    },
    {
     "name": "stderr",
     "output_type": "stream",
     "text": [
      "24/09/26 17:18:54 WARN WindowExec: No Partition Defined for Window operation! Moving all data to a single partition, this can cause serious performance degradation.\n",
      "24/09/26 17:18:54 WARN WindowExec: No Partition Defined for Window operation! Moving all data to a single partition, this can cause serious performance degradation.\n",
      "24/09/26 17:18:54 WARN WindowExec: No Partition Defined for Window operation! Moving all data to a single partition, this can cause serious performance degradation.\n",
      "24/09/26 17:18:54 WARN WindowExec: No Partition Defined for Window operation! Moving all data to a single partition, this can cause serious performance degradation.\n"
     ]
    }
   ],
   "source": [
    "from pyspark.sql import functions as F\n",
    "df_first = df1.groupBy(\"Holding company\").agg(\n",
    "     F.first(\"Headquarters\").alias(\"Headquarters\"),\n",
    "     F.concat_ws(\", \", F.collect_list(\"Locations\")).alias(\"Locations\"),\n",
    "     F.first(\"Year established\").alias(\"Year established\"),\n",
    "     F.concat_ws(\", \", F.collect_list(\"Properties\")).alias(\"Properties\"),\n",
    "     F.concat_ws(\", \", F.collect_list(\"Rooms\")).alias(\"Rooms\")  # Adjust based on your requirement\n",
    ")\n",
    "defaults = {\n",
    "    \"Headquarters\": \"Unknown Headquarters\",\n",
    "    \"Locations\": \"Unknown Locations\",\n",
    "    \"Year established\": \"Unknown Year\",\n",
    "    \"Properties\": \"Unknown Properties\",\n",
    "    \"Rooms\": \"unknown\" \n",
    "df_first = df_first.fillna(defaults)\n",
    "df_first.show()\n"
   ]
  },
  {
   "cell_type": "markdown",
   "metadata": {},
   "source": [
    "4.1.4 cleaning information about references"
   ]
  },
  {
   "cell_type": "code",
   "execution_count": 46,
   "metadata": {},
   "outputs": [
    {
     "name": "stderr",
     "output_type": "stream",
     "text": [
      "24/09/26 17:18:55 WARN WindowExec: No Partition Defined for Window operation! Moving all data to a single partition, this can cause serious performance degradation.\n",
      "24/09/26 17:18:55 WARN WindowExec: No Partition Defined for Window operation! Moving all data to a single partition, this can cause serious performance degradation.\n",
      "24/09/26 17:18:55 WARN WindowExec: No Partition Defined for Window operation! Moving all data to a single partition, this can cause serious performance degradation.\n",
      "24/09/26 17:18:55 WARN WindowExec: No Partition Defined for Window operation! Moving all data to a single partition, this can cause serious performance degradation.\n"
     ]
    },
    {
     "name": "stdout",
     "output_type": "stream",
     "text": [
      "+--------------------+--------------------+--------------------+----------------+--------------------+--------------------+\n",
      "|     Holding company|        Headquarters|           Locations|Year established|          Properties|               Rooms|\n",
      "+--------------------+--------------------+--------------------+----------------+--------------------+--------------------+\n",
      "|               Accor|      Paris (France)|Worldwide, Worldw...|            1967|5,300, 5,300, 5,3...|778,000, 778,000,...|\n",
      "|        Aman Resorts|   Baar, Switzerland|        20 countries|            1988|                  34|             778,000|\n",
      "|           APA Group|       Tokyo (Japan)|  Japan, USA, Canada|            1988|       355, 355, 355|53,168, 53,168, 5...|\n",
      "|Archipelago Inter...|Jakarta, (Indonesia)|           Worldwide|            1997|                 150|              53,168|\n",
      "|Ascott Limited (The)|           Singapore|Worldwide (27 cou...|            1984|800, 800, 800, 80...|135,000, 135,000,...|\n",
      "|        Avari Hotels|  Karachi (Pakistan)|         3 countries|            1948|                   5|             135,000|\n",
      "|Banyan Tree Holdings|           Singapore|Worldwide (28 cou...|            1994|      47, 47, 47, 47|135,000, 135,000,...|\n",
      "|            Barrière|      Paris (France)|Europe, Europe, E...|            1912|      18, 18, 18, 18|2,300, 2,300, 2,3...|\n",
      "|     Belmond Limited|  Hamilton (Bermuda)|           Worldwide|            1976|                  41|               2,300|\n",
      "| Best Western Hotels|       Phoenix (USA)|Worldwide, Worldw...|            1946|4,700, 4,700, 4,7...|369,386, 369,386,...|\n",
      "|BTG Homeinn hotel...|    Shanghai (China)|China, China, Chi...|            2002|4,450, 4,450, 4,4...|414,952, 414,952,...|\n",
      "|Centara Hotels & ...|  Bangkok (Thailand)|Asia, Middle East...|            1983|77, 77, 77, 77, 7...|16,737, 16,737, 1...|\n",
      "| China Lodging Group|   Shanghai, (China)|               China|            2007|               5,953|             575,488|\n",
      "| Huazhu Hotels Group|   Shanghai, (China)|China, China, Chi...|            2007|5,953, 5,953, 5,9...|575,488, 575,488,...|\n",
      "|Choice Hotels Int...|     Rockville (USA)|Worldwide, Worldw...|            1939|7,100, 7,100, 7,1...|600,000, 600,000,...|\n",
      "|Cinnamon Hotels &...| Colombo (Sri Lanka)| Sri Lanka, Maldives|            2005|                  15|               2,556|\n",
      "| Compass Hospitality|  Bangkok (Thailand)|Thailand, Malaysi...|            2005|      46, 46, 46, 46|4,600+, 4,600+, 4...|\n",
      "|Dalata Hotel Grou...|    Dublin (Ireland)|Ireland, United K...|            2008|              41, 41|        8,952, 8,952|\n",
      "|Dorchester Collec...|London (United Ki...|France, Italy, UK...|            1981|          9, 9, 9, 9|8,952, 8,952, 8,9...|\n",
      "|        Drury Hotels|     St. Louis (USA)|USA, USA, USA, US...|            1973|150, 150, 150, 15...|8,952, 8,952, 8,9...|\n",
      "+--------------------+--------------------+--------------------+----------------+--------------------+--------------------+\n",
      "only showing top 20 rows\n",
      "\n"
     ]
    }
   ],
   "source": [
    "from pyspark.sql.functions import  split,trim,regexp_replace\n",
    "grouped_df = df_first.select(\n",
    "         \"Holding company\",\n",
    "    regexp_replace(\"Headquarters\", r'\\[\\d+\\]', \"\").alias(\"Headquarters\"),\n",
    "          regexp_replace(\"Locations\", r'\\[\\d+\\]', \"\").alias(\"Locations\"),\n",
    "           regexp_replace(\"Year established\", r'\\[\\d+\\]', \"\").alias(\"Year established\"),\n",
    "          regexp_replace(\"Properties\", r'\\[\\d+\\]', \"\").alias(\"Properties\"),\n",
    "          regexp_replace(\"Rooms\", r'\\[\\d+\\]', \"\").alias(\"Rooms\")\n",
    "       )\n",
    "grouped_df.show()"
   ]
  },
  {
   "cell_type": "markdown",
   "metadata": {},
   "source": [
    "4.1.5  create a new column associated \"Headquarters country\" "
   ]
  },
  {
   "cell_type": "code",
   "execution_count": 47,
   "metadata": {},
   "outputs": [
    {
     "name": "stdout",
     "output_type": "stream",
     "text": [
      "+--------------------+--------------------+--------------------+----------------+--------------------+--------------------+-----------------+--------------+\n",
      "|     Holding company|        Headquarters|           Locations|Year established|          Properties|               Rooms|             City|       Country|\n",
      "+--------------------+--------------------+--------------------+----------------+--------------------+--------------------+-----------------+--------------+\n",
      "|               Accor|      Paris (France)|Worldwide, Worldw...|            1967|5,300, 5,300, 5,3...|778,000, 778,000,...|           Paris |        France|\n",
      "|        Aman Resorts|   Baar, Switzerland|        20 countries|            1988|                  34|             778,000|Baar, Switzerland|          NULL|\n",
      "|           APA Group|       Tokyo (Japan)|  Japan, USA, Canada|            1988|       355, 355, 355|53,168, 53,168, 5...|           Tokyo |         Japan|\n",
      "|Archipelago Inter...|Jakarta, (Indonesia)|           Worldwide|            1997|                 150|              53,168|        Jakarta, |     Indonesia|\n",
      "|Ascott Limited (The)|           Singapore|Worldwide (27 cou...|            1984|800, 800, 800, 80...|135,000, 135,000,...|        Singapore|          NULL|\n",
      "|        Avari Hotels|  Karachi (Pakistan)|         3 countries|            1948|                   5|             135,000|         Karachi |      Pakistan|\n",
      "|Banyan Tree Holdings|           Singapore|Worldwide (28 cou...|            1994|      47, 47, 47, 47|135,000, 135,000,...|        Singapore|          NULL|\n",
      "|            Barrière|      Paris (France)|Europe, Europe, E...|            1912|      18, 18, 18, 18|2,300, 2,300, 2,3...|           Paris |        France|\n",
      "|     Belmond Limited|  Hamilton (Bermuda)|           Worldwide|            1976|                  41|               2,300|        Hamilton |       Bermuda|\n",
      "| Best Western Hotels|       Phoenix (USA)|Worldwide, Worldw...|            1946|4,700, 4,700, 4,7...|369,386, 369,386,...|         Phoenix |           USA|\n",
      "|BTG Homeinn hotel...|    Shanghai (China)|China, China, Chi...|            2002|4,450, 4,450, 4,4...|414,952, 414,952,...|        Shanghai |         China|\n",
      "|Centara Hotels & ...|  Bangkok (Thailand)|Asia, Middle East...|            1983|77, 77, 77, 77, 7...|16,737, 16,737, 1...|         Bangkok |      Thailand|\n",
      "| China Lodging Group|   Shanghai, (China)|               China|            2007|               5,953|             575,488|       Shanghai, |         China|\n",
      "| Huazhu Hotels Group|   Shanghai, (China)|China, China, Chi...|            2007|5,953, 5,953, 5,9...|575,488, 575,488,...|       Shanghai, |         China|\n",
      "|Choice Hotels Int...|     Rockville (USA)|Worldwide, Worldw...|            1939|7,100, 7,100, 7,1...|600,000, 600,000,...|       Rockville |           USA|\n",
      "|Cinnamon Hotels &...| Colombo (Sri Lanka)| Sri Lanka, Maldives|            2005|                  15|               2,556|         Colombo |     Sri Lanka|\n",
      "| Compass Hospitality|  Bangkok (Thailand)|Thailand, Malaysi...|            2005|      46, 46, 46, 46|4,600+, 4,600+, 4...|         Bangkok |      Thailand|\n",
      "|Dalata Hotel Grou...|    Dublin (Ireland)|Ireland, United K...|            2008|              41, 41|        8,952, 8,952|          Dublin |       Ireland|\n",
      "|Dorchester Collec...|London (United Ki...|France, Italy, UK...|            1981|          9, 9, 9, 9|8,952, 8,952, 8,9...|          London |United Kingdom|\n",
      "|        Drury Hotels|     St. Louis (USA)|USA, USA, USA, US...|            1973|150, 150, 150, 15...|8,952, 8,952, 8,9...|       St. Louis |           USA|\n",
      "+--------------------+--------------------+--------------------+----------------+--------------------+--------------------+-----------------+--------------+\n",
      "only showing top 20 rows\n",
      "\n"
     ]
    },
    {
     "name": "stderr",
     "output_type": "stream",
     "text": [
      "24/09/26 17:18:55 WARN WindowExec: No Partition Defined for Window operation! Moving all data to a single partition, this can cause serious performance degradation.\n",
      "24/09/26 17:18:55 WARN WindowExec: No Partition Defined for Window operation! Moving all data to a single partition, this can cause serious performance degradation.\n",
      "24/09/26 17:18:55 WARN WindowExec: No Partition Defined for Window operation! Moving all data to a single partition, this can cause serious performance degradation.\n",
      "24/09/26 17:18:55 WARN WindowExec: No Partition Defined for Window operation! Moving all data to a single partition, this can cause serious performance degradation.\n"
     ]
    }
   ],
   "source": [
    "from pyspark.sql.functions import  split,trim,regexp_replace\n",
    "grouped_df = grouped_df.withColumn(\"City\", split(\"Headquarters\", r'\\(')[0])\n",
    "grouped_df = grouped_df.withColumn(\"Country\", regexp_replace(split(\"Headquarters\", r'\\(')[1], r'\\)', ''))\n",
    "grouped_df.show()"
   ]
  },
  {
   "cell_type": "markdown",
   "metadata": {},
   "source": [
    "4.2.1 Creating second Df"
   ]
  },
  {
   "cell_type": "code",
   "execution_count": 48,
   "metadata": {},
   "outputs": [
    {
     "name": "stderr",
     "output_type": "stream",
     "text": [
      "24/09/26 17:18:55 WARN SparkSession: Using an existing Spark session; only runtime SQL configurations will take effect.\n"
     ]
    },
    {
     "name": "stdout",
     "output_type": "stream",
     "text": [
      "+---------------+--------+--------------------+--------------------+\n",
      "|Holding company|Category|      Managed brands|   Franchised brands|\n",
      "+---------------+--------+--------------------+--------------------+\n",
      "|          Accor|  Luxury|             Raffles|Banyan Tree Hótel...|\n",
      "|           NULL|    NULL|      Orient Express|                NULL|\n",
      "|           NULL|    NULL|              Delano|                NULL|\n",
      "|           NULL|    NULL|                 SO/|                NULL|\n",
      "|           NULL|    NULL|      Sofitel Legend|                NULL|\n",
      "|           NULL|    NULL|            Fairmont|                NULL|\n",
      "|           NULL|    NULL|                 SLS|                NULL|\n",
      "|           NULL|    NULL|             Sofitel|                NULL|\n",
      "|           NULL|    NULL|The House of Orig...|                NULL|\n",
      "|           NULL|    NULL|               Rixos|                NULL|\n",
      "|           NULL|    NULL|         onefinestay|                NULL|\n",
      "|           NULL| Premium|              Mantis|                NULL|\n",
      "|           NULL|    NULL|            MGallery|                NULL|\n",
      "|           NULL|    NULL|          Art Series|                NULL|\n",
      "|           NULL|    NULL|            Mondrian|                NULL|\n",
      "|           NULL|    NULL|             Pullman|                NULL|\n",
      "|           NULL|    NULL|           Swissôtel|                NULL|\n",
      "|           NULL|    NULL|             Angsana|                NULL|\n",
      "|           NULL|    NULL|            25 Hours|                NULL|\n",
      "|           NULL|    NULL|                Hyde|                NULL|\n",
      "+---------------+--------+--------------------+--------------------+\n",
      "only showing top 20 rows\n",
      "\n"
     ]
    }
   ],
   "source": [
    "from pyspark.sql import SparkSession\n",
    "from pyspark.sql.functions import mean, concat_ws, collect_set, regexp_replace, split, trim\n",
    "spark = SparkSession.builder.appName(\"My App\").getOrCreate()\n",
    "df = spark.read.csv(\"/home/ai/Documents/Task_hotel/hotels.csv\", header=True)\n",
    "df2 = df.select(\"Holding company\", \"Category\", \"Managed brands\", \"Franchised brands\")\n",
    "df2.show()"
   ]
  },
  {
   "cell_type": "markdown",
   "metadata": {},
   "source": [
    "4.2.2 Cleaning DF"
   ]
  },
  {
   "cell_type": "code",
   "execution_count": 49,
   "metadata": {},
   "outputs": [
    {
     "name": "stdout",
     "output_type": "stream",
     "text": [
      "+---------------+--------+--------------------+--------------------+\n",
      "|Holding company|Category|      Managed brands|   Franchised brands|\n",
      "+---------------+--------+--------------------+--------------------+\n",
      "|          Accor|  Luxury|             Raffles|Banyan Tree Hótel...|\n",
      "|          Accor|  Luxury|      Orient Express|Banyan Tree Hótel...|\n",
      "|          Accor|  Luxury|              Delano|Banyan Tree Hótel...|\n",
      "|          Accor|  Luxury|                 SO/|Banyan Tree Hótel...|\n",
      "|          Accor|  Luxury|      Sofitel Legend|Banyan Tree Hótel...|\n",
      "|          Accor|  Luxury|            Fairmont|Banyan Tree Hótel...|\n",
      "|          Accor|  Luxury|                 SLS|Banyan Tree Hótel...|\n",
      "|          Accor|  Luxury|             Sofitel|Banyan Tree Hótel...|\n",
      "|          Accor|  Luxury|The House of Orig...|Banyan Tree Hótel...|\n",
      "|          Accor|  Luxury|               Rixos|Banyan Tree Hótel...|\n",
      "|          Accor|  Luxury|         onefinestay|Banyan Tree Hótel...|\n",
      "|          Accor| Premium|              Mantis|Banyan Tree Hótel...|\n",
      "|          Accor| Premium|            MGallery|Banyan Tree Hótel...|\n",
      "|          Accor| Premium|          Art Series|Banyan Tree Hótel...|\n",
      "|          Accor| Premium|            Mondrian|Banyan Tree Hótel...|\n",
      "|          Accor| Premium|             Pullman|Banyan Tree Hótel...|\n",
      "|          Accor| Premium|           Swissôtel|Banyan Tree Hótel...|\n",
      "|          Accor| Premium|             Angsana|Banyan Tree Hótel...|\n",
      "|          Accor| Premium|            25 Hours|Banyan Tree Hótel...|\n",
      "|          Accor| Premium|                Hyde|Banyan Tree Hótel...|\n",
      "+---------------+--------+--------------------+--------------------+\n",
      "only showing top 20 rows\n",
      "\n"
     ]
    },
    {
     "name": "stderr",
     "output_type": "stream",
     "text": [
      "24/09/26 17:18:55 WARN WindowExec: No Partition Defined for Window operation! Moving all data to a single partition, this can cause serious performance degradation.\n",
      "24/09/26 17:18:55 WARN WindowExec: No Partition Defined for Window operation! Moving all data to a single partition, this can cause serious performance degradation.\n",
      "24/09/26 17:18:55 WARN WindowExec: No Partition Defined for Window operation! Moving all data to a single partition, this can cause serious performance degradation.\n",
      "24/09/26 17:18:55 WARN WindowExec: No Partition Defined for Window operation! Moving all data to a single partition, this can cause serious performance degradation.\n",
      "24/09/26 17:18:55 WARN WindowExec: No Partition Defined for Window operation! Moving all data to a single partition, this can cause serious performance degradation.\n"
     ]
    }
   ],
   "source": [
    "import pyspark.sql.functions as F\n",
    "from pyspark.sql import Window\n",
    "w_forward = Window.partitionBy().rowsBetween(Window.unboundedPreceding,Window.currentRow)\n",
    "df2 = df2.select([F.last(df2[column], ignorenulls=True).over(w_forward).alias(column) for column in df2.columns])\n",
    "df2.show()"
   ]
  },
  {
   "cell_type": "markdown",
   "metadata": {},
   "source": [
    "5.To specify the best type and nullable for each ncolumn"
   ]
  },
  {
   "cell_type": "code",
   "execution_count": 66,
   "metadata": {},
   "outputs": [
    {
     "name": "stdout",
     "output_type": "stream",
     "text": [
      "root\n",
      " |-- Holding company: string (nullable = true)\n",
      " |-- Category: string (nullable = true)\n",
      " |-- Managed brands: string (nullable = true)\n",
      " |-- Franchised brands: string (nullable = true)\n",
      "\n"
     ]
    }
   ],
   "source": [
    "df2.printSchema()"
   ]
  },
  {
   "cell_type": "markdown",
   "metadata": {},
   "source": [
    "6.GroupBy func"
   ]
  },
  {
   "cell_type": "markdown",
   "metadata": {},
   "source": [
    "6.1 Total number of rooms per \"Headquarerd country\""
   ]
  },
  {
   "cell_type": "code",
   "execution_count": 36,
   "metadata": {},
   "outputs": [
    {
     "name": "stderr",
     "output_type": "stream",
     "text": [
      "24/09/26 17:16:09 WARN WindowExec: No Partition Defined for Window operation! Moving all data to a single partition, this can cause serious performance degradation.\n",
      "24/09/26 17:16:09 WARN WindowExec: No Partition Defined for Window operation! Moving all data to a single partition, this can cause serious performance degradation.\n",
      "24/09/26 17:16:09 WARN WindowExec: No Partition Defined for Window operation! Moving all data to a single partition, this can cause serious performance degradation.\n",
      "24/09/26 17:16:09 WARN WindowExec: No Partition Defined for Window operation! Moving all data to a single partition, this can cause serious performance degradation.\n"
     ]
    },
    {
     "name": "stdout",
     "output_type": "stream",
     "text": [
      "+--------------------+--------------------+--------------------+----------------+--------------------+--------------------+-----------------+--------------+\n",
      "|     Holding company|        Headquarters|           Locations|Year established|          Properties|               Rooms|             City|       Country|\n",
      "+--------------------+--------------------+--------------------+----------------+--------------------+--------------------+-----------------+--------------+\n",
      "|               Accor|      Paris (France)|Worldwide, Worldw...|            1967|5,300, 5,300, 5,3...|778,000, 778,000,...|           Paris |        France|\n",
      "|        Aman Resorts|   Baar, Switzerland|        20 countries|            1988|                  34|             778,000|Baar, Switzerland|          NULL|\n",
      "|           APA Group|       Tokyo (Japan)|  Japan, USA, Canada|            1988|       355, 355, 355|53,168, 53,168, 5...|           Tokyo |         Japan|\n",
      "|Archipelago Inter...|Jakarta, (Indonesia)|           Worldwide|            1997|                 150|              53,168|        Jakarta, |     Indonesia|\n",
      "|Ascott Limited (The)|           Singapore|Worldwide (27 cou...|            1984|800, 800, 800, 80...|135,000, 135,000,...|        Singapore|          NULL|\n",
      "|        Avari Hotels|  Karachi (Pakistan)|         3 countries|            1948|                   5|             135,000|         Karachi |      Pakistan|\n",
      "|Banyan Tree Holdings|           Singapore|Worldwide (28 cou...|            1994|      47, 47, 47, 47|135,000, 135,000,...|        Singapore|          NULL|\n",
      "|            Barrière|      Paris (France)|Europe, Europe, E...|            1912|      18, 18, 18, 18|2,300, 2,300, 2,3...|           Paris |        France|\n",
      "|     Belmond Limited|  Hamilton (Bermuda)|           Worldwide|            1976|                  41|               2,300|        Hamilton |       Bermuda|\n",
      "| Best Western Hotels|       Phoenix (USA)|Worldwide, Worldw...|            1946|4,700, 4,700, 4,7...|369,386, 369,386,...|         Phoenix |           USA|\n",
      "|BTG Homeinn hotel...|    Shanghai (China)|China, China, Chi...|            2002|4,450, 4,450, 4,4...|414,952, 414,952,...|        Shanghai |         China|\n",
      "|Centara Hotels & ...|  Bangkok (Thailand)|Asia, Middle East...|            1983|77, 77, 77, 77, 7...|16,737, 16,737, 1...|         Bangkok |      Thailand|\n",
      "| China Lodging Group|   Shanghai, (China)|               China|            2007|               5,953|             575,488|       Shanghai, |         China|\n",
      "| Huazhu Hotels Group|   Shanghai, (China)|China, China, Chi...|            2007|5,953, 5,953, 5,9...|575,488, 575,488,...|       Shanghai, |         China|\n",
      "|Choice Hotels Int...|     Rockville (USA)|Worldwide, Worldw...|            1939|7,100, 7,100, 7,1...|600,000, 600,000,...|       Rockville |           USA|\n",
      "|Cinnamon Hotels &...| Colombo (Sri Lanka)| Sri Lanka, Maldives|            2005|                  15|               2,556|         Colombo |     Sri Lanka|\n",
      "| Compass Hospitality|  Bangkok (Thailand)|Thailand, Malaysi...|            2005|      46, 46, 46, 46|4,600+, 4,600+, 4...|         Bangkok |      Thailand|\n",
      "|Dalata Hotel Grou...|    Dublin (Ireland)|Ireland, United K...|            2008|              41, 41|        8,952, 8,952|          Dublin |       Ireland|\n",
      "|Dorchester Collec...|London (United Ki...|France, Italy, UK...|            1981|          9, 9, 9, 9|8,952, 8,952, 8,9...|          London |United Kingdom|\n",
      "|        Drury Hotels|     St. Louis (USA)|USA, USA, USA, US...|            1973|150, 150, 150, 15...|8,952, 8,952, 8,9...|       St. Louis |           USA|\n",
      "+--------------------+--------------------+--------------------+----------------+--------------------+--------------------+-----------------+--------------+\n",
      "only showing top 20 rows\n",
      "\n"
     ]
    },
    {
     "name": "stderr",
     "output_type": "stream",
     "text": [
      "24/09/26 17:16:09 WARN WindowExec: No Partition Defined for Window operation! Moving all data to a single partition, this can cause serious performance degradation.\n",
      "24/09/26 17:16:09 WARN WindowExec: No Partition Defined for Window operation! Moving all data to a single partition, this can cause serious performance degradation.\n",
      "24/09/26 17:16:10 WARN WindowExec: No Partition Defined for Window operation! Moving all data to a single partition, this can cause serious performance degradation.\n",
      "24/09/26 17:16:10 WARN WindowExec: No Partition Defined for Window operation! Moving all data to a single partition, this can cause serious performance degradation.\n"
     ]
    },
    {
     "name": "stdout",
     "output_type": "stream",
     "text": [
      "+--------------------+----------+\n",
      "|             Country|sum(Rooms)|\n",
      "+--------------------+----------+\n",
      "|              France|      NULL|\n",
      "|               Japan|      NULL|\n",
      "|           Indonesia|      NULL|\n",
      "|            Pakistan|      NULL|\n",
      "|             Bermuda|      NULL|\n",
      "|                 USA|      NULL|\n",
      "|               China|      NULL|\n",
      "|            Thailand|      NULL|\n",
      "|           Sri Lanka|      NULL|\n",
      "|             Ireland|      NULL|\n",
      "|      United Kingdom|      NULL|\n",
      "|              Sweden|      NULL|\n",
      "|               India|       5.0|\n",
      "|              Canada|      NULL|\n",
      "|                  UK|      NULL|\n",
      "|United Arab Emirates|      NULL|\n",
      "|             Germany|      NULL|\n",
      "|  Dominican Republic|      NULL|\n",
      "|               Korea|      NULL|\n",
      "|               Spain|      NULL|\n",
      "+--------------------+----------+\n",
      "only showing top 20 rows\n",
      "\n"
     ]
    }
   ],
   "source": [
    "from pyspark.sql import SparkSession\n",
    "from pyspark.sql import functions as F\n",
    "grouped_df.show()\n",
    "room_counts_by_country = grouped_df.groupBy(\"Country\").agg({\"Rooms\": \"sum\"})\n",
    "room_counts_by_country.show()\n",
    "\n",
    "spark.stop()\n"
   ]
  },
  {
   "cell_type": "markdown",
   "metadata": {},
   "source": [
    "6.2 Average number of properties per \"Headquarerd country\""
   ]
  },
  {
   "cell_type": "code",
   "execution_count": 53,
   "metadata": {},
   "outputs": [
    {
     "name": "stderr",
     "output_type": "stream",
     "text": [
      "24/09/26 17:22:21 WARN WindowExec: No Partition Defined for Window operation! Moving all data to a single partition, this can cause serious performance degradation.\n",
      "24/09/26 17:22:21 WARN WindowExec: No Partition Defined for Window operation! Moving all data to a single partition, this can cause serious performance degradation.\n",
      "24/09/26 17:22:21 WARN WindowExec: No Partition Defined for Window operation! Moving all data to a single partition, this can cause serious performance degradation.\n",
      "24/09/26 17:22:21 WARN WindowExec: No Partition Defined for Window operation! Moving all data to a single partition, this can cause serious performance degradation.\n"
     ]
    },
    {
     "name": "stdout",
     "output_type": "stream",
     "text": [
      "+--------------------+------------------+\n",
      "|             Country|   avg(Properties)|\n",
      "+--------------------+------------------+\n",
      "|              France|              NULL|\n",
      "|               Japan|              NULL|\n",
      "|           Indonesia|             150.0|\n",
      "|            Pakistan|               5.0|\n",
      "|             Bermuda|              41.0|\n",
      "|                 USA|52.666666666666664|\n",
      "|               China|              NULL|\n",
      "|            Thailand|              NULL|\n",
      "|           Sri Lanka|              22.0|\n",
      "|             Ireland|              NULL|\n",
      "|      United Kingdom|              NULL|\n",
      "|              Sweden|              39.0|\n",
      "|               India|             106.0|\n",
      "|              Canada|             126.0|\n",
      "|                  UK|              NULL|\n",
      "|United Arab Emirates|              24.0|\n",
      "|             Germany|              NULL|\n",
      "|  Dominican Republic|              10.0|\n",
      "|               Korea|              NULL|\n",
      "|               Spain|              NULL|\n",
      "+--------------------+------------------+\n",
      "only showing top 20 rows\n",
      "\n"
     ]
    }
   ],
   "source": [
    "avg_properties_by_country = grouped_df.groupBy(\"Country\").agg({\"Properties\": \"avg\"})\n",
    "avg_properties_by_country.show()"
   ]
  },
  {
   "cell_type": "markdown",
   "metadata": {},
   "source": [
    "6.3   Number of \"Managed Brands\" per \"Holding Company\" and \"Category\""
   ]
  },
  {
   "cell_type": "code",
   "execution_count": 65,
   "metadata": {},
   "outputs": [
    {
     "name": "stdout",
     "output_type": "stream",
     "text": [
      "+--------------------+--------------+---------------------+\n",
      "|     Holding company|      Category|count(Managed brands)|\n",
      "+--------------------+--------------+---------------------+\n",
      "|               Accor|        Luxury|                   11|\n",
      "|               Accor|       Premium|                   13|\n",
      "|               Accor|      Midscale|                    6|\n",
      "|               Accor|       Economy|                    6|\n",
      "|        Aman Resorts|        Luxury|                    1|\n",
      "|           APA Group|      Midscale|                    3|\n",
      "|Archipelago Inter...|      Midscale|                    1|\n",
      "|Ascott Limited (The)|        Luxury|                    3|\n",
      "|Ascott Limited (The)|       Premium|                    2|\n",
      "|Ascott Limited (The)|       Upscale|                    3|\n",
      "|Ascott Limited (The)|Upper-Midscale|                    2|\n",
      "|Ascott Limited (The)|      Midscale|                    1|\n",
      "|Ascott Limited (The)|Lower-Midscale|                    2|\n",
      "|Ascott Limited (The)|       Economy|                    1|\n",
      "|Ascott Limited (The)| Uncategorized|                    1|\n",
      "|        Avari Hotels|        Luxury|                    1|\n",
      "|Banyan Tree Holdings|        Luxury|                    1|\n",
      "|Banyan Tree Holdings|       Premium|                    2|\n",
      "|Banyan Tree Holdings|      Midscale|                    1|\n",
      "|            Barrière|        Luxury|                    4|\n",
      "+--------------------+--------------+---------------------+\n",
      "only showing top 20 rows\n",
      "\n"
     ]
    },
    {
     "name": "stderr",
     "output_type": "stream",
     "text": [
      "24/09/26 17:32:35 WARN WindowExec: No Partition Defined for Window operation! Moving all data to a single partition, this can cause serious performance degradation.\n",
      "24/09/26 17:32:35 WARN WindowExec: No Partition Defined for Window operation! Moving all data to a single partition, this can cause serious performance degradation.\n",
      "24/09/26 17:32:35 WARN WindowExec: No Partition Defined for Window operation! Moving all data to a single partition, this can cause serious performance degradation.\n",
      "24/09/26 17:32:35 WARN WindowExec: No Partition Defined for Window operation! Moving all data to a single partition, this can cause serious performance degradation.\n"
     ]
    }
   ],
   "source": [
    "# df2.show()\n",
    "managed_brands_per_holding_company_category = df2.groupBy(\"Holding company\", \"Category\").agg({\"Managed brands\": \"size\"})\n",
    "managed_brands_per_holding_company_category.show()"
   ]
  }
 ],
 "metadata": {
  "kernelspec": {
   "display_name": "Python 3",
   "language": "python",
   "name": "python3"
  },
  "language_info": {
   "codemirror_mode": {
    "name": "ipython",
    "version": 3
   },
   "file_extension": ".py",
   "mimetype": "text/x-python",
   "name": "python",
   "nbconvert_exporter": "python",
   "pygments_lexer": "ipython3",
   "version": "3.10.12"
  }
 },
 "nbformat": 4,
 "nbformat_minor": 2
}
